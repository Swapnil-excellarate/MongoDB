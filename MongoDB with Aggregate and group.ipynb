{
 "cells": [
  {
   "cell_type": "code",
   "execution_count": 13,
   "metadata": {},
   "outputs": [
    {
     "data": {
      "text/plain": [
       "<pymongo.results.InsertManyResult at 0x212529beb80>"
      ]
     },
     "execution_count": 13,
     "metadata": {},
     "output_type": "execute_result"
    }
   ],
   "source": [
    "from pymongo import MongoClient\n",
    "\n",
    "client = MongoClient()\n",
    "client = MongoClient(\"mongodb://localhost:27017/\")\n",
    "\n",
    "mydb= client[\"Student\"]\n",
    "\n",
    "collection = mydb[\"studentCouse\"]\n",
    "\n",
    "data=[\n",
    "    {\"user\":\"swapnil\", \"subject\":\"c++\", \"score\":\"81\"},\n",
    "    {\"user\":\"swapnil\", \"subject\":\"java\", \"score\":\"78\"},\n",
    "    {\"user\":\"abhi\", \"subject\":\"c++\", \"score\":\"88\"},\n",
    "    {\"user\":\"swapnil\", \"subject\":\"python\", \"score\":\"88\"},\n",
    "    {\"user\":\"abhi\", \"subject\":\"python\", \"score\":\"76\"},\n",
    "    {\"user\":\"abhi\", \"subject\":\"java\", \"score\":\"88\"}\n",
    "]\n",
    "\n",
    "collection.insert_many(data)"
   ]
  },
  {
   "cell_type": "code",
   "execution_count": 25,
   "metadata": {},
   "outputs": [
    {
     "name": "stdout",
     "output_type": "stream",
     "text": [
      "{'_id': 'abhi', 'total subjects': 3}\n",
      "{'_id': 'swapnil', 'total subjects': 3}\n"
     ]
    }
   ],
   "source": [
    "### find swapnil and abhi total subjects\n",
    "\n",
    "total_sub= collection.aggregate(\n",
    "    [{\n",
    "        \"$group\":\n",
    "        {\"_id\":\"$user\",\n",
    "        \"total subjects\":{\"$sum\":1}\n",
    "        }\n",
    "    }\n",
    "])\n",
    "\n",
    "for i in total_sub:\n",
    "    print(i)"
   ]
  },
  {
   "cell_type": "code",
   "execution_count": 30,
   "metadata": {},
   "outputs": [
    {
     "name": "stdout",
     "output_type": "stream",
     "text": [
      "{'_id': 'swapnil', 'total marks': 0}\n",
      "{'_id': 'abhi', 'total marks': 0}\n"
     ]
    }
   ],
   "source": [
    "### total sum of subjects\n",
    "\n",
    "total_marks=collection.aggregate(\n",
    "[\n",
    "    {\"$group\":\n",
    "    {\"_id\":\"$user\",\n",
    "     \"total marks\": {\"$sum\":\"$score\"}\n",
    "    }}\n",
    "])\n",
    "for i in total_marks:\n",
    "    print(i)"
   ]
  },
  {
   "cell_type": "code",
   "execution_count": null,
   "metadata": {},
   "outputs": [],
   "source": []
  }
 ],
 "metadata": {
  "kernelspec": {
   "display_name": "Python 3",
   "language": "python",
   "name": "python3"
  },
  "language_info": {
   "codemirror_mode": {
    "name": "ipython",
    "version": 3
   },
   "file_extension": ".py",
   "mimetype": "text/x-python",
   "name": "python",
   "nbconvert_exporter": "python",
   "pygments_lexer": "ipython3",
   "version": "3.8.5"
  }
 },
 "nbformat": 4,
 "nbformat_minor": 4
}
