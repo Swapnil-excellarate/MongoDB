{
 "cells": [
  {
   "cell_type": "markdown",
   "metadata": {},
   "source": [
    "#### Querying Json Documention "
   ]
  },
  {
   "cell_type": "code",
   "execution_count": 2,
   "metadata": {},
   "outputs": [],
   "source": [
    "import pymongo\n",
    "\n",
    "client=pymongo.MongoClient('mongodb://127.0.0.1:27017/')\n",
    "\n",
    "mydb=client['Employee']\n",
    "empinfo=mydb.EmployeeInfo"
   ]
  },
  {
   "cell_type": "code",
   "execution_count": 5,
   "metadata": {},
   "outputs": [
    {
     "data": {
      "text/plain": [
       "<pymongo.results.InsertOneResult at 0x1dae5f41ec0>"
      ]
     },
     "execution_count": 5,
     "metadata": {},
     "output_type": "execute_result"
    }
   ],
   "source": [
    "record={\n",
    "    'Emp_name':'Swapmil',\n",
    "    'Emp_last_name':'Pandit',\n",
    "    'Emp_ID':1,\n",
    "    'deparment':'Analytics'\n",
    "}\n",
    "empinfo.insert_one(record)"
   ]
  },
  {
   "cell_type": "code",
   "execution_count": 6,
   "metadata": {},
   "outputs": [
    {
     "data": {
      "text/plain": [
       "<pymongo.results.InsertManyResult at 0x1dae5f89f80>"
      ]
     },
     "execution_count": 6,
     "metadata": {},
     "output_type": "execute_result"
    }
   ],
   "source": [
    "record=[{\n",
    "    'Emp_name':'Tushar',\n",
    "    'Emp_last_name':'jadhav',\n",
    "    'Emp_ID':2,\n",
    "    'deparment':'Database'    \n",
    "},{\n",
    "    'Emp_name':'Abhi',\n",
    "    'Emp_last_name':'Mane',\n",
    "    'Emp_ID':3,\n",
    "    'deparment':'Analytics'\n",
    "},{\n",
    "    'Emp_name':'Suraj',\n",
    "    'Emp_last_name':'Deshmukh',\n",
    "    'Emp_ID':4,\n",
    "    'deparment':'Analytics'\n",
    "},{\n",
    "    'Emp_name':'Mangesh',\n",
    "    'Emp_last_name':'Sutar',\n",
    "    'Emp_ID':5,\n",
    "    'deparment':'devloper'\n",
    "}]\n",
    "empinfo.insert_many(record)"
   ]
  },
  {
   "cell_type": "code",
   "execution_count": 8,
   "metadata": {},
   "outputs": [
    {
     "data": {
      "text/plain": [
       "{'_id': ObjectId('5ffd7bd634ca06b4595606c5'),\n",
       " 'Emp_name': 'Swapmil',\n",
       " 'Emp_last_name': 'Pandit',\n",
       " 'Emp_ID': 1,\n",
       " 'deparment': 'Analytics'}"
      ]
     },
     "execution_count": 8,
     "metadata": {},
     "output_type": "execute_result"
    }
   ],
   "source": [
    "# simple way of Querying \n",
    "empinfo.find_one()"
   ]
  },
  {
   "cell_type": "code",
   "execution_count": 10,
   "metadata": {},
   "outputs": [
    {
     "name": "stdout",
     "output_type": "stream",
     "text": [
      "{'_id': ObjectId('5ffd7bd634ca06b4595606c5'), 'Emp_name': 'Swapmil', 'Emp_last_name': 'Pandit', 'Emp_ID': 1, 'deparment': 'Analytics'}\n",
      "{'_id': ObjectId('5ffd7c9134ca06b4595606c6'), 'Emp_name': 'Tushar', 'Emp_last_name': 'jadhav', 'Emp_ID': 2, 'deparment': 'Database'}\n",
      "{'_id': ObjectId('5ffd7c9134ca06b4595606c7'), 'Emp_name': 'Abhi', 'Emp_last_name': 'Mane', 'Emp_ID': 3, 'deparment': 'Analytics'}\n",
      "{'_id': ObjectId('5ffd7c9134ca06b4595606c8'), 'Emp_name': 'Suraj', 'Emp_last_name': 'Deshmukh', 'Emp_ID': 4, 'deparment': 'Analytics'}\n",
      "{'_id': ObjectId('5ffd7c9134ca06b4595606c9'), 'Emp_name': 'Mangesh', 'Emp_last_name': 'Sutar', 'Emp_ID': 5, 'deparment': 'devloper'}\n"
     ]
    }
   ],
   "source": [
    "for record in empinfo.find():\n",
    "    print(record)"
   ]
  },
  {
   "cell_type": "code",
   "execution_count": 21,
   "metadata": {},
   "outputs": [
    {
     "name": "stdout",
     "output_type": "stream",
     "text": [
      "{'_id': ObjectId('5ffd7bd634ca06b4595606c5'), 'Emp_name': 'Swapmil', 'Emp_last_name': 'Pandit', 'Emp_ID': 1, 'deparment': 'Analytics'}\n"
     ]
    }
   ],
   "source": [
    "for record in empinfo.find({'Emp_name':'Swapmil'}):\n",
    "    print(record)\n"
   ]
  },
  {
   "cell_type": "code",
   "execution_count": 24,
   "metadata": {},
   "outputs": [
    {
     "name": "stdout",
     "output_type": "stream",
     "text": [
      "{'_id': ObjectId('5ffd7bd634ca06b4595606c5'), 'Emp_name': 'Swapmil', 'Emp_last_name': 'Pandit', 'Emp_ID': 1, 'deparment': 'Analytics'}\n",
      "{'_id': ObjectId('5ffd7c9134ca06b4595606c7'), 'Emp_name': 'Abhi', 'Emp_last_name': 'Mane', 'Emp_ID': 3, 'deparment': 'Analytics'}\n",
      "{'_id': ObjectId('5ffd7c9134ca06b4595606c8'), 'Emp_name': 'Suraj', 'Emp_last_name': 'Deshmukh', 'Emp_ID': 4, 'deparment': 'Analytics'}\n"
     ]
    }
   ],
   "source": [
    "## OR Oprentor \n",
    "for record in empinfo.find({'$or':[{'Emp_name':'Abhi'},{'deparment':'Analytics'}]}):\n",
    "    print(record)"
   ]
  },
  {
   "cell_type": "code",
   "execution_count": 25,
   "metadata": {},
   "outputs": [
    {
     "name": "stdout",
     "output_type": "stream",
     "text": [
      "{'_id': ObjectId('5ffd7c9134ca06b4595606c7'), 'Emp_name': 'Abhi', 'Emp_last_name': 'Mane', 'Emp_ID': 3, 'deparment': 'Analytics'}\n"
     ]
    }
   ],
   "source": [
    "## And Oprentor \n",
    "for record in empinfo.find({'$and':[{'Emp_name':'Abhi'},{'deparment':'Analytics'}]}):\n",
    "    print(record)"
   ]
  },
  {
   "cell_type": "code",
   "execution_count": 4,
   "metadata": {},
   "outputs": [],
   "source": [
    "## $LT Oprentor \n",
    "for record in empinfo.find({'deparment':'Analytics', 'Emp_id':{'$lt':2}}):\n",
    "    print(record)"
   ]
  },
  {
   "cell_type": "code",
   "execution_count": 1,
   "metadata": {},
   "outputs": [
    {
     "ename": "IndentationError",
     "evalue": "expected an indented block (<ipython-input-1-98e93b9a97d9>, line 16)",
     "output_type": "error",
     "traceback": [
      "\u001b[1;36m  File \u001b[1;32m\"<ipython-input-1-98e93b9a97d9>\"\u001b[1;36m, line \u001b[1;32m16\u001b[0m\n\u001b[1;33m    req_data = request.get_json()\u001b[0m\n\u001b[1;37m    ^\u001b[0m\n\u001b[1;31mIndentationError\u001b[0m\u001b[1;31m:\u001b[0m expected an indented block\n"
     ]
    }
   ],
   "source": [
    "import os\n",
    "import json\n",
    "import pymongo\n",
    "from flask import Flask\n",
    "from flask import request\n",
    "app = Flask(_name_)\n",
    "usr = os.environ['MONGO_DB_USER']\n",
    "pwd = os.environ['MONGO_DB_PASS']\n",
    "\n",
    "client = pymongo.MongoClient(\"mongodb+srv://\" + usr + \":\" + pwd + \"@firstcluster-obuqd.mongodb.net/test?retryWrites=true&w=majority\")\n",
    "db = client['SampleDatabase']\n",
    "collection = db['SampleCollection']\n",
    "\n",
    "@app.route(\"/\", methods=['POST'])\n",
    "def insert_document():\n",
    "req_data = request.get_json()\n",
    "collection.insert_one(req_data).inserted_id\n",
    "return ('', 204)\n",
    "\n",
    "@app.route('/')\n",
    "def get():\n",
    "documents = collection.find()\n",
    "response = []\n",
    "for document in documents:\n",
    "document['_id'] = str(document['_id'])\n",
    "response.append(document)\n",
    "return json.dumps(response)\n",
    "\n",
    "if _name_ == '_main_':\n",
    "app.run()"
   ]
  },
  {
   "cell_type": "code",
   "execution_count": null,
   "metadata": {},
   "outputs": [],
   "source": []
  }
 ],
 "metadata": {
  "kernelspec": {
   "display_name": "Python 3",
   "language": "python",
   "name": "python3"
  },
  "language_info": {
   "codemirror_mode": {
    "name": "ipython",
    "version": 3
   },
   "file_extension": ".py",
   "mimetype": "text/x-python",
   "name": "python",
   "nbconvert_exporter": "python",
   "pygments_lexer": "ipython3",
   "version": "3.8.5"
  }
 },
 "nbformat": 4,
 "nbformat_minor": 4
}
