{
 "cells": [
  {
   "cell_type": "markdown",
   "metadata": {},
   "source": [
    "#  Functions to Discuss\n",
    "\n",
    "\n",
    "- pymongo.collocetion.Collection.update_one()\n",
    "- pymongo.collection.Collection.update_many()\n",
    "- pymongo.collection.Collection.replace_one()\n"
   ]
  },
  {
   "cell_type": "code",
   "execution_count": 4,
   "metadata": {},
   "outputs": [],
   "source": [
    "import pymongo \n",
    "\n",
    "client= pymongo.MongoClient('mongodb://127.0.0.1:27017/')\n",
    "mydb=client['Employee']\n",
    "Inventory=mydb.Inventory"
   ]
  },
  {
   "cell_type": "code",
   "execution_count": 5,
   "metadata": {},
   "outputs": [
    {
     "data": {
      "text/plain": [
       "<pymongo.results.InsertManyResult at 0x265bc48cfc0>"
      ]
     },
     "execution_count": 5,
     "metadata": {},
     "output_type": "execute_result"
    }
   ],
   "source": [
    "Inventory.insert_many([\n",
    "    {'item':'Pen',\n",
    "    'qty':'100',\n",
    "    'size':{'type':'Bollpen','h':28,'w':2},\n",
    "    'status':'A.1'},\n",
    "    \n",
    "    {'item':'Pencil',\n",
    "    'qty':'200',\n",
    "    'size':{'type':'0.5','h':30,'w':2},\n",
    "    'status':'B'},\n",
    "    \n",
    "    {'item':'Pen',\n",
    "    'qty':'150',\n",
    "    'size':{'type':'Bluepen','h':25,'w':2.3},\n",
    "    'status':'A.2'},\n",
    "    \n",
    "    {'item':'Pencil',\n",
    "    'qty':'190',\n",
    "    'size':{'type':'0.7','h':30,'w':2.1},\n",
    "    'status':'B.2'},\n",
    "    ]\n",
    ")"
   ]
  },
  {
   "cell_type": "code",
   "execution_count": 1,
   "metadata": {},
   "outputs": [
    {
     "ename": "NameError",
     "evalue": "name 'Inventory' is not defined",
     "output_type": "error",
     "traceback": [
      "\u001b[1;31m---------------------------------------------------------------------------\u001b[0m",
      "\u001b[1;31mNameError\u001b[0m                                 Traceback (most recent call last)",
      "\u001b[1;32m<ipython-input-1-0b900c648486>\u001b[0m in \u001b[0;36m<module>\u001b[1;34m\u001b[0m\n\u001b[1;32m----> 1\u001b[1;33m Inventory.update_one(\n\u001b[0m\u001b[0;32m      2\u001b[0m \u001b[1;33m{\u001b[0m\u001b[1;34m\"item\"\u001b[0m\u001b[1;33m:\u001b[0m\u001b[1;34m\"Pencil\"\u001b[0m\u001b[1;33m,\u001b[0m \u001b[1;34m\"status\"\u001b[0m\u001b[1;33m:\u001b[0m\u001b[1;34m\"B.2\"\u001b[0m\u001b[1;33m}\u001b[0m\u001b[1;33m,\u001b[0m\u001b[1;33m\u001b[0m\u001b[1;33m\u001b[0m\u001b[0m\n\u001b[0;32m      3\u001b[0m {\"$set\":{\"size.w\":2},\n\u001b[0;32m      4\u001b[0m \u001b[1;34m\"$currentDate\"\u001b[0m\u001b[1;33m:\u001b[0m\u001b[1;33m{\u001b[0m\u001b[1;34m'modify date'\u001b[0m\u001b[1;33m:\u001b[0m\u001b[1;32mTrue\u001b[0m\u001b[1;33m}\u001b[0m\u001b[1;33m\u001b[0m\u001b[1;33m\u001b[0m\u001b[0m\n\u001b[0;32m      5\u001b[0m }\n",
      "\u001b[1;31mNameError\u001b[0m: name 'Inventory' is not defined"
     ]
    }
   ],
   "source": [
    "Inventory.update_one(\n",
    "{\"item\":\"Pencil\", \"status\":\"B.2\"},\n",
    "{\"$set\":{\"size.w\":2},\n",
    "\"$currentDate\":{'modify date':True}\n",
    "}\n",
    ")"
   ]
  },
  {
   "cell_type": "code",
   "execution_count": 16,
   "metadata": {},
   "outputs": [
    {
     "ename": "ValueError",
     "evalue": "update only works with $ operators",
     "output_type": "error",
     "traceback": [
      "\u001b[1;31m---------------------------------------------------------------------------\u001b[0m",
      "\u001b[1;31mValueError\u001b[0m                                Traceback (most recent call last)",
      "\u001b[1;32m<ipython-input-16-f4b751e6fd79>\u001b[0m in \u001b[0;36m<module>\u001b[1;34m\u001b[0m\n\u001b[1;32m----> 1\u001b[1;33m Inventory.update_many(\n\u001b[0m\u001b[0;32m      2\u001b[0m \u001b[1;33m{\u001b[0m\u001b[1;34m\"item\"\u001b[0m\u001b[1;33m:\u001b[0m\u001b[1;34m\"Pencil\"\u001b[0m\u001b[1;33m}\u001b[0m\u001b[1;33m,\u001b[0m\u001b[1;33m\u001b[0m\u001b[1;33m\u001b[0m\u001b[0m\n\u001b[0;32m      3\u001b[0m {\"set\":{\"status\":\"BX\"},\n\u001b[0;32m      4\u001b[0m \u001b[1;34m\"$currentDate\"\u001b[0m\u001b[1;33m:\u001b[0m\u001b[1;33m{\u001b[0m\u001b[1;34m\"modify Time\"\u001b[0m\u001b[1;33m:\u001b[0m\u001b[1;32mTrue\u001b[0m\u001b[1;33m}\u001b[0m\u001b[1;33m\u001b[0m\u001b[1;33m\u001b[0m\u001b[0m\n\u001b[0;32m      5\u001b[0m })\n",
      "\u001b[1;32m~\\anaconda3\\lib\\site-packages\\pymongo\\collection.py\u001b[0m in \u001b[0;36mupdate_many\u001b[1;34m(self, filter, update, upsert, array_filters, bypass_document_validation, collation, hint, session)\u001b[0m\n\u001b[0;32m   1088\u001b[0m         \"\"\"\n\u001b[0;32m   1089\u001b[0m         \u001b[0mcommon\u001b[0m\u001b[1;33m.\u001b[0m\u001b[0mvalidate_is_mapping\u001b[0m\u001b[1;33m(\u001b[0m\u001b[1;34m\"filter\"\u001b[0m\u001b[1;33m,\u001b[0m \u001b[0mfilter\u001b[0m\u001b[1;33m)\u001b[0m\u001b[1;33m\u001b[0m\u001b[1;33m\u001b[0m\u001b[0m\n\u001b[1;32m-> 1090\u001b[1;33m         \u001b[0mcommon\u001b[0m\u001b[1;33m.\u001b[0m\u001b[0mvalidate_ok_for_update\u001b[0m\u001b[1;33m(\u001b[0m\u001b[0mupdate\u001b[0m\u001b[1;33m)\u001b[0m\u001b[1;33m\u001b[0m\u001b[1;33m\u001b[0m\u001b[0m\n\u001b[0m\u001b[0;32m   1091\u001b[0m         \u001b[0mcommon\u001b[0m\u001b[1;33m.\u001b[0m\u001b[0mvalidate_list_or_none\u001b[0m\u001b[1;33m(\u001b[0m\u001b[1;34m'array_filters'\u001b[0m\u001b[1;33m,\u001b[0m \u001b[0marray_filters\u001b[0m\u001b[1;33m)\u001b[0m\u001b[1;33m\u001b[0m\u001b[1;33m\u001b[0m\u001b[0m\n\u001b[0;32m   1092\u001b[0m \u001b[1;33m\u001b[0m\u001b[0m\n",
      "\u001b[1;32m~\\anaconda3\\lib\\site-packages\\pymongo\\common.py\u001b[0m in \u001b[0;36mvalidate_ok_for_update\u001b[1;34m(update)\u001b[0m\n\u001b[0;32m    555\u001b[0m     \u001b[0mfirst\u001b[0m \u001b[1;33m=\u001b[0m \u001b[0mnext\u001b[0m\u001b[1;33m(\u001b[0m\u001b[0miter\u001b[0m\u001b[1;33m(\u001b[0m\u001b[0mupdate\u001b[0m\u001b[1;33m)\u001b[0m\u001b[1;33m)\u001b[0m\u001b[1;33m\u001b[0m\u001b[1;33m\u001b[0m\u001b[0m\n\u001b[0;32m    556\u001b[0m     \u001b[1;32mif\u001b[0m \u001b[0mis_document\u001b[0m \u001b[1;32mand\u001b[0m \u001b[1;32mnot\u001b[0m \u001b[0mfirst\u001b[0m\u001b[1;33m.\u001b[0m\u001b[0mstartswith\u001b[0m\u001b[1;33m(\u001b[0m\u001b[1;34m'$'\u001b[0m\u001b[1;33m)\u001b[0m\u001b[1;33m:\u001b[0m\u001b[1;33m\u001b[0m\u001b[1;33m\u001b[0m\u001b[0m\n\u001b[1;32m--> 557\u001b[1;33m         \u001b[1;32mraise\u001b[0m \u001b[0mValueError\u001b[0m\u001b[1;33m(\u001b[0m\u001b[1;34m'update only works with $ operators'\u001b[0m\u001b[1;33m)\u001b[0m\u001b[1;33m\u001b[0m\u001b[1;33m\u001b[0m\u001b[0m\n\u001b[0m\u001b[0;32m    558\u001b[0m \u001b[1;33m\u001b[0m\u001b[0m\n\u001b[0;32m    559\u001b[0m \u001b[1;33m\u001b[0m\u001b[0m\n",
      "\u001b[1;31mValueError\u001b[0m: update only works with $ operators"
     ]
    }
   ],
   "source": [
    "Inventory.update_many(\n",
    "{\"item\":\"Pencil\"},\n",
    "{\"set\":{\"status\":\"BX\"},\n",
    "\"$currentDate\":{\"modify Time\":True}\n",
    "})"
   ]
  },
  {
   "cell_type": "code",
   "execution_count": 17,
   "metadata": {},
   "outputs": [
    {
     "data": {
      "text/plain": [
       "<pymongo.results.UpdateResult at 0x265be30aa80>"
      ]
     },
     "execution_count": 17,
     "metadata": {},
     "output_type": "execute_result"
    }
   ],
   "source": [
    "Inventory.replace_one(\n",
    "{\"item\": \"pen\"},\n",
    "{\"item\": \"pen\",\n",
    "\"instock\": [{'type':'Bollpen','h':28},\n",
    "           {'type':'pen','h':25}]})"
   ]
  },
  {
   "cell_type": "code",
   "execution_count": null,
   "metadata": {},
   "outputs": [],
   "source": []
  }
 ],
 "metadata": {
  "kernelspec": {
   "display_name": "Python 3",
   "language": "python",
   "name": "python3"
  },
  "language_info": {
   "codemirror_mode": {
    "name": "ipython",
    "version": 3
   },
   "file_extension": ".py",
   "mimetype": "text/x-python",
   "name": "python",
   "nbconvert_exporter": "python",
   "pygments_lexer": "ipython3",
   "version": "3.8.5"
  }
 },
 "nbformat": 4,
 "nbformat_minor": 4
}
